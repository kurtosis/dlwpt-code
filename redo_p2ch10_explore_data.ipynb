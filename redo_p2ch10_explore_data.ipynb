{
 "cells": [
  {
   "cell_type": "code",
   "execution_count": 1,
   "metadata": {},
   "outputs": [],
   "source": [
    "%matplotlib inline\n",
    "import glob\n",
    "import numpy as np\n",
    "import os\n",
    "import pandas as pd\n",
    "\n",
    "from part2_redo.dsets import get_candidate_df, LunaDataset, Ct"
   ]
  },
  {
   "cell_type": "code",
   "execution_count": 2,
   "metadata": {},
   "outputs": [],
   "source": [
    "candidates = get_candidate_df(require_on_disk=False)\n",
    "positives = candidates[candidates.is_nodule_bool]"
   ]
  },
  {
   "cell_type": "code",
   "execution_count": 7,
   "metadata": {
    "collapsed": true
   },
   "outputs": [
    {
     "name": "stdout",
     "output_type": "stream",
     "text": [
      "CandidateInfoTuple(isNodule_bool=True, diameter_mm=32.27003025, series_uid='1.3.6.1.4.1.14519.5.2.1.6279.6001.287966244644280690737019247886', center_xyz=(67.61451718, 85.02525992, -109.8084416))\n",
      "CandidateInfoTuple(isNodule_bool=True, diameter_mm=30.61040636, series_uid='1.3.6.1.4.1.14519.5.2.1.6279.6001.112740418331256326754121315800', center_xyz=(47.90350511, 37.60442008, -99.93417567))\n",
      "CandidateInfoTuple(isNodule_bool=True, diameter_mm=30.61040636, series_uid='1.3.6.1.4.1.14519.5.2.1.6279.6001.112740418331256326754121315800', center_xyz=(44.19, 37.79, -107.01))\n",
      "CandidateInfoTuple(isNodule_bool=True, diameter_mm=30.61040636, series_uid='1.3.6.1.4.1.14519.5.2.1.6279.6001.112740418331256326754121315800', center_xyz=(40.69, 32.19, -97.15))\n",
      "CandidateInfoTuple(isNodule_bool=True, diameter_mm=27.44242293, series_uid='1.3.6.1.4.1.14519.5.2.1.6279.6001.943403138251347598519939390311', center_xyz=(-45.29440163, 74.86925386, -97.52812481))\n",
      "CandidateInfoTuple(isNodule_bool=True, diameter_mm=27.07544345, series_uid='1.3.6.1.4.1.14519.5.2.1.6279.6001.481278873893653517789960724156', center_xyz=(-102.571208, -5.186558766, -205.1033412))\n",
      "CandidateInfoTuple(isNodule_bool=True, diameter_mm=26.83708074, series_uid='1.3.6.1.4.1.14519.5.2.1.6279.6001.487268565754493433372433148666', center_xyz=(121.152909372, 12.9136003304, -159.399497186))\n",
      "CandidateInfoTuple(isNodule_bool=True, diameter_mm=26.83708074, series_uid='1.3.6.1.4.1.14519.5.2.1.6279.6001.487268565754493433372433148666', center_xyz=(118.8539408, 11.54202797, -165.5042458))\n",
      "CandidateInfoTuple(isNodule_bool=True, diameter_mm=25.87269662, series_uid='1.3.6.1.4.1.14519.5.2.1.6279.6001.177086402277715068525592995222', center_xyz=(-66.628286875, 57.151972075, -110.12035075))\n",
      "CandidateInfoTuple(isNodule_bool=True, diameter_mm=25.41540526, series_uid='1.3.6.1.4.1.14519.5.2.1.6279.6001.219618492426142913407827034169', center_xyz=(-101.7504204, -95.65460516, -138.4943211))\n",
      "CandidateInfoTuple(isNodule_bool=True, diameter_mm=0.0, series_uid='1.3.6.1.4.1.14519.5.2.1.6279.6001.107109359065300889765026303943', center_xyz=(-100.57, -66.23, -218.76))\n",
      "CandidateInfoTuple(isNodule_bool=True, diameter_mm=0.0, series_uid='1.3.6.1.4.1.14519.5.2.1.6279.6001.106379658920626694402549886949', center_xyz=(-71.09, 68.3, -160.4))\n",
      "CandidateInfoTuple(isNodule_bool=True, diameter_mm=0.0, series_uid='1.3.6.1.4.1.14519.5.2.1.6279.6001.102681962408431413578140925249', center_xyz=(106.18, 12.61, -96.81))\n",
      "CandidateInfoTuple(isNodule_bool=True, diameter_mm=0.0, series_uid='1.3.6.1.4.1.14519.5.2.1.6279.6001.102681962408431413578140925249', center_xyz=(96.2846726653, 19.0348690723, -88.478440818))\n",
      "CandidateInfoTuple(isNodule_bool=True, diameter_mm=0.0, series_uid='1.3.6.1.4.1.14519.5.2.1.6279.6001.100621383016233746780170740405', center_xyz=(89.32, 190.84, -516.82))\n",
      "CandidateInfoTuple(isNodule_bool=True, diameter_mm=0.0, series_uid='1.3.6.1.4.1.14519.5.2.1.6279.6001.100621383016233746780170740405', center_xyz=(89.32, 143.23, -427.1))\n",
      "CandidateInfoTuple(isNodule_bool=True, diameter_mm=0.0, series_uid='1.3.6.1.4.1.14519.5.2.1.6279.6001.100621383016233746780170740405', center_xyz=(85.12, 152.33, -425.7))\n",
      "CandidateInfoTuple(isNodule_bool=True, diameter_mm=0.0, series_uid='1.3.6.1.4.1.14519.5.2.1.6279.6001.100621383016233746780170740405', center_xyz=(8.8, 174.74, -401.87))\n",
      "CandidateInfoTuple(isNodule_bool=True, diameter_mm=0.0, series_uid='1.3.6.1.4.1.14519.5.2.1.6279.6001.100621383016233746780170740405', center_xyz=(5.99, 171.94, -398.37))\n",
      "CandidateInfoTuple(isNodule_bool=True, diameter_mm=0.0, series_uid='1.3.6.1.4.1.14519.5.2.1.6279.6001.100621383016233746780170740405', center_xyz=(1.79, 166.34, -408.88))\n",
      "CandidateInfoTuple(isNodule_bool=True, diameter_mm=0.0, series_uid='1.3.6.1.4.1.14519.5.2.1.6279.6001.124154461048929153767743874565', center_xyz=(146.12, -160.55, -309.93))\n"
     ]
    }
   ],
   "source": [
    "for candidateInfo_tup in positiveInfo_list[:10]:\n",
    "    print(candidateInfo_tup)\n",
    "for candidateInfo_tup in positiveInfo_list[-10:]:\n",
    "    print(candidateInfo_tup)\n",
    "    \n",
    "for candidateInfo_tup in positiveInfo_list:\n",
    "    if candidateInfo_tup.series_uid.endswith('565'):\n",
    "        print(candidateInfo_tup)"
   ]
  },
  {
   "cell_type": "code",
   "execution_count": 3,
   "metadata": {},
   "outputs": [],
   "source": [
    "positive_samples = positives.iloc[:100]"
   ]
  },
  {
   "cell_type": "code",
   "execution_count": 4,
   "metadata": {},
   "outputs": [],
   "source": [
    "series_uid = positive_samples.seriesuid[2]\n",
    "# showCandidate(series_uid)"
   ]
  },
  {
   "cell_type": "code",
   "execution_count": 5,
   "metadata": {},
   "outputs": [
    {
     "name": "stderr",
     "output_type": "stream",
     "text": [
      "2023-02-12 23:43:42,513 INFO     pid:25759 part2_redo.dsets:153:__init__ <part2_redo.dsets.LunaDataset object at 0x7f7b21683f10>: 911 training samples\n"
     ]
    }
   ],
   "source": [
    "ds = LunaDataset(series_uid=series_uid)"
   ]
  },
  {
   "cell_type": "code",
   "execution_count": 8,
   "metadata": {},
   "outputs": [],
   "source": [
    "candidate_series = ds.candidates.iloc[0]"
   ]
  },
  {
   "cell_type": "code",
   "execution_count": 11,
   "metadata": {},
   "outputs": [
    {
     "data": {
      "text/plain": [
       "is_nodule_bool                                                 True\n",
       "diameter_mm                                                 30.6104\n",
       "seriesuid         1.3.6.1.4.1.14519.5.2.1.6279.6001.112740418331...\n",
       "coordX                                                        44.19\n",
       "coordY                                                        37.79\n",
       "coordZ                                                      -107.01\n",
       "Name: 1, dtype: object"
      ]
     },
     "execution_count": 11,
     "metadata": {},
     "output_type": "execute_result"
    }
   ],
   "source": [
    "candidate_series\n"
   ]
  },
  {
   "cell_type": "code",
   "execution_count": 7,
   "metadata": {},
   "outputs": [],
   "source": [
    "pos_list = ds.candidates[ds.candidates.is_nodule_bool]"
   ]
  },
  {
   "cell_type": "code",
   "execution_count": 10,
   "metadata": {},
   "outputs": [
    {
     "data": {
      "text/html": [
       "<div>\n",
       "<style scoped>\n",
       "    .dataframe tbody tr th:only-of-type {\n",
       "        vertical-align: middle;\n",
       "    }\n",
       "\n",
       "    .dataframe tbody tr th {\n",
       "        vertical-align: top;\n",
       "    }\n",
       "\n",
       "    .dataframe thead th {\n",
       "        text-align: right;\n",
       "    }\n",
       "</style>\n",
       "<table border=\"1\" class=\"dataframe\">\n",
       "  <thead>\n",
       "    <tr style=\"text-align: right;\">\n",
       "      <th></th>\n",
       "      <th>is_nodule_bool</th>\n",
       "      <th>diameter_mm</th>\n",
       "      <th>seriesuid</th>\n",
       "      <th>coordX</th>\n",
       "      <th>coordY</th>\n",
       "      <th>coordZ</th>\n",
       "    </tr>\n",
       "  </thead>\n",
       "  <tbody>\n",
       "    <tr>\n",
       "      <th>1</th>\n",
       "      <td>True</td>\n",
       "      <td>30.610406</td>\n",
       "      <td>1.3.6.1.4.1.14519.5.2.1.6279.6001.112740418331...</td>\n",
       "      <td>44.190000</td>\n",
       "      <td>37.790000</td>\n",
       "      <td>-107.010000</td>\n",
       "    </tr>\n",
       "    <tr>\n",
       "      <th>2</th>\n",
       "      <td>True</td>\n",
       "      <td>30.610406</td>\n",
       "      <td>1.3.6.1.4.1.14519.5.2.1.6279.6001.112740418331...</td>\n",
       "      <td>47.903505</td>\n",
       "      <td>37.604420</td>\n",
       "      <td>-99.934176</td>\n",
       "    </tr>\n",
       "    <tr>\n",
       "      <th>108</th>\n",
       "      <td>True</td>\n",
       "      <td>16.882905</td>\n",
       "      <td>1.3.6.1.4.1.14519.5.2.1.6279.6001.112740418331...</td>\n",
       "      <td>-59.916324</td>\n",
       "      <td>-64.815561</td>\n",
       "      <td>-100.068931</td>\n",
       "    </tr>\n",
       "    <tr>\n",
       "      <th>950</th>\n",
       "      <td>True</td>\n",
       "      <td>0.000000</td>\n",
       "      <td>1.3.6.1.4.1.14519.5.2.1.6279.6001.112740418331...</td>\n",
       "      <td>58.200000</td>\n",
       "      <td>35.690000</td>\n",
       "      <td>-102.080000</td>\n",
       "    </tr>\n",
       "    <tr>\n",
       "      <th>951</th>\n",
       "      <td>True</td>\n",
       "      <td>0.000000</td>\n",
       "      <td>1.3.6.1.4.1.14519.5.2.1.6279.6001.112740418331...</td>\n",
       "      <td>50.500000</td>\n",
       "      <td>27.280000</td>\n",
       "      <td>-107.010000</td>\n",
       "    </tr>\n",
       "  </tbody>\n",
       "</table>\n",
       "</div>"
      ],
      "text/plain": [
       "     is_nodule_bool  diameter_mm  \\\n",
       "1              True    30.610406   \n",
       "2              True    30.610406   \n",
       "108            True    16.882905   \n",
       "950            True     0.000000   \n",
       "951            True     0.000000   \n",
       "\n",
       "                                             seriesuid     coordX     coordY  \\\n",
       "1    1.3.6.1.4.1.14519.5.2.1.6279.6001.112740418331...  44.190000  37.790000   \n",
       "2    1.3.6.1.4.1.14519.5.2.1.6279.6001.112740418331...  47.903505  37.604420   \n",
       "108  1.3.6.1.4.1.14519.5.2.1.6279.6001.112740418331... -59.916324 -64.815561   \n",
       "950  1.3.6.1.4.1.14519.5.2.1.6279.6001.112740418331...  58.200000  35.690000   \n",
       "951  1.3.6.1.4.1.14519.5.2.1.6279.6001.112740418331...  50.500000  27.280000   \n",
       "\n",
       "         coordZ  \n",
       "1   -107.010000  \n",
       "2    -99.934176  \n",
       "108 -100.068931  \n",
       "950 -102.080000  \n",
       "951 -107.010000  "
      ]
     },
     "execution_count": 10,
     "metadata": {},
     "output_type": "execute_result"
    }
   ],
   "source": [
    "ds.candidates.head()"
   ]
  },
  {
   "cell_type": "code",
   "execution_count": 8,
   "metadata": {},
   "outputs": [
    {
     "data": {
      "text/html": [
       "<div>\n",
       "<style scoped>\n",
       "    .dataframe tbody tr th:only-of-type {\n",
       "        vertical-align: middle;\n",
       "    }\n",
       "\n",
       "    .dataframe tbody tr th {\n",
       "        vertical-align: top;\n",
       "    }\n",
       "\n",
       "    .dataframe thead th {\n",
       "        text-align: right;\n",
       "    }\n",
       "</style>\n",
       "<table border=\"1\" class=\"dataframe\">\n",
       "  <thead>\n",
       "    <tr style=\"text-align: right;\">\n",
       "      <th></th>\n",
       "      <th>is_nodule_bool</th>\n",
       "      <th>diameter_mm</th>\n",
       "      <th>seriesuid</th>\n",
       "      <th>coordX</th>\n",
       "      <th>coordY</th>\n",
       "      <th>coordZ</th>\n",
       "    </tr>\n",
       "  </thead>\n",
       "  <tbody>\n",
       "    <tr>\n",
       "      <th>1</th>\n",
       "      <td>True</td>\n",
       "      <td>30.610406</td>\n",
       "      <td>1.3.6.1.4.1.14519.5.2.1.6279.6001.112740418331...</td>\n",
       "      <td>44.190000</td>\n",
       "      <td>37.790000</td>\n",
       "      <td>-107.010000</td>\n",
       "    </tr>\n",
       "    <tr>\n",
       "      <th>2</th>\n",
       "      <td>True</td>\n",
       "      <td>30.610406</td>\n",
       "      <td>1.3.6.1.4.1.14519.5.2.1.6279.6001.112740418331...</td>\n",
       "      <td>47.903505</td>\n",
       "      <td>37.604420</td>\n",
       "      <td>-99.934176</td>\n",
       "    </tr>\n",
       "    <tr>\n",
       "      <th>108</th>\n",
       "      <td>True</td>\n",
       "      <td>16.882905</td>\n",
       "      <td>1.3.6.1.4.1.14519.5.2.1.6279.6001.112740418331...</td>\n",
       "      <td>-59.916324</td>\n",
       "      <td>-64.815561</td>\n",
       "      <td>-100.068931</td>\n",
       "    </tr>\n",
       "    <tr>\n",
       "      <th>950</th>\n",
       "      <td>True</td>\n",
       "      <td>0.000000</td>\n",
       "      <td>1.3.6.1.4.1.14519.5.2.1.6279.6001.112740418331...</td>\n",
       "      <td>58.200000</td>\n",
       "      <td>35.690000</td>\n",
       "      <td>-102.080000</td>\n",
       "    </tr>\n",
       "    <tr>\n",
       "      <th>951</th>\n",
       "      <td>True</td>\n",
       "      <td>0.000000</td>\n",
       "      <td>1.3.6.1.4.1.14519.5.2.1.6279.6001.112740418331...</td>\n",
       "      <td>50.500000</td>\n",
       "      <td>27.280000</td>\n",
       "      <td>-107.010000</td>\n",
       "    </tr>\n",
       "  </tbody>\n",
       "</table>\n",
       "</div>"
      ],
      "text/plain": [
       "     is_nodule_bool  diameter_mm  \\\n",
       "1              True    30.610406   \n",
       "2              True    30.610406   \n",
       "108            True    16.882905   \n",
       "950            True     0.000000   \n",
       "951            True     0.000000   \n",
       "\n",
       "                                             seriesuid     coordX     coordY  \\\n",
       "1    1.3.6.1.4.1.14519.5.2.1.6279.6001.112740418331...  44.190000  37.790000   \n",
       "2    1.3.6.1.4.1.14519.5.2.1.6279.6001.112740418331...  47.903505  37.604420   \n",
       "108  1.3.6.1.4.1.14519.5.2.1.6279.6001.112740418331... -59.916324 -64.815561   \n",
       "950  1.3.6.1.4.1.14519.5.2.1.6279.6001.112740418331...  58.200000  35.690000   \n",
       "951  1.3.6.1.4.1.14519.5.2.1.6279.6001.112740418331...  50.500000  27.280000   \n",
       "\n",
       "         coordZ  \n",
       "1   -107.010000  \n",
       "2    -99.934176  \n",
       "108 -100.068931  \n",
       "950 -102.080000  \n",
       "951 -107.010000  "
      ]
     },
     "execution_count": 8,
     "metadata": {},
     "output_type": "execute_result"
    }
   ],
   "source": [
    "pos_list.head()"
   ]
  },
  {
   "cell_type": "code",
   "execution_count": 22,
   "metadata": {},
   "outputs": [
    {
     "name": "stderr",
     "output_type": "stream",
     "text": [
      "2023-02-12 04:58:44,780 INFO     pid:18965 part2_redo.dsets:153:__init__ <part2_redo.dsets.LunaDataset object at 0x7fb1854ad650>: 602 training samples\n"
     ]
    }
   ],
   "source": [
    "ds = LunaDataset(series_uid=series_uid)\n",
    "# pos_list = [i for i, x in enumerate(ds.candidateInfo_list) if x.is_nodule_bool]\n",
    "pos_list = ds.candidates[ds.candidates.is_nodule_bool]\n",
    "batch_ndx = 0\n",
    "if batch_ndx is None:\n",
    "    if pos_list:\n",
    "        batch_ndx = pos_list[0]\n",
    "    else:\n",
    "        print(\"Warning: no positive samples found; using first negative sample.\")\n",
    "        batch_ndx = 0\n",
    "\n",
    "ct = Ct(series_uid)"
   ]
  },
  {
   "cell_type": "code",
   "execution_count": 23,
   "metadata": {},
   "outputs": [
    {
     "ename": "AttributeError",
     "evalue": "'Series' object has no attribute 'center_xyz'",
     "output_type": "error",
     "traceback": [
      "\u001B[0;31m---------------------------------------------------------------------------\u001B[0m",
      "\u001B[0;31mAttributeError\u001B[0m                            Traceback (most recent call last)",
      "\u001B[0;32m<ipython-input-23-754d1f5dd7fb>\u001B[0m in \u001B[0;36m<module>\u001B[0;34m\u001B[0m\n\u001B[0;32m----> 1\u001B[0;31m \u001B[0mds\u001B[0m\u001B[0;34m[\u001B[0m\u001B[0mbatch_ndx\u001B[0m\u001B[0;34m]\u001B[0m\u001B[0;34m\u001B[0m\u001B[0;34m\u001B[0m\u001B[0m\n\u001B[0m",
      "\u001B[0;32m~/pytorch_projects/dlwpt-code/part2_redo/dsets.py\u001B[0m in \u001B[0;36m__getitem__\u001B[0;34m(self, ndx)\u001B[0m\n\u001B[1;32m    163\u001B[0m \u001B[0;34m\u001B[0m\u001B[0m\n\u001B[1;32m    164\u001B[0m         candidate_a, center_irc = get_ct_raw_candidate(\n\u001B[0;32m--> 165\u001B[0;31m             \u001B[0mcandidate_series\u001B[0m\u001B[0;34m.\u001B[0m\u001B[0mseriesuid\u001B[0m\u001B[0;34m,\u001B[0m \u001B[0mcandidate_series\u001B[0m\u001B[0;34m.\u001B[0m\u001B[0mcenter_xyz\u001B[0m\u001B[0;34m,\u001B[0m \u001B[0mwidth_irc\u001B[0m\u001B[0;34m,\u001B[0m\u001B[0;34m\u001B[0m\u001B[0;34m\u001B[0m\u001B[0m\n\u001B[0m\u001B[1;32m    166\u001B[0m         )\n\u001B[1;32m    167\u001B[0m \u001B[0;34m\u001B[0m\u001B[0m\n",
      "\u001B[0;32m~/miniconda3/lib/python3.7/site-packages/pandas/core/generic.py\u001B[0m in \u001B[0;36m__getattr__\u001B[0;34m(self, name)\u001B[0m\n\u001B[1;32m   5272\u001B[0m             \u001B[0;32mif\u001B[0m \u001B[0mself\u001B[0m\u001B[0;34m.\u001B[0m\u001B[0m_info_axis\u001B[0m\u001B[0;34m.\u001B[0m\u001B[0m_can_hold_identifiers_and_holds_name\u001B[0m\u001B[0;34m(\u001B[0m\u001B[0mname\u001B[0m\u001B[0;34m)\u001B[0m\u001B[0;34m:\u001B[0m\u001B[0;34m\u001B[0m\u001B[0;34m\u001B[0m\u001B[0m\n\u001B[1;32m   5273\u001B[0m                 \u001B[0;32mreturn\u001B[0m \u001B[0mself\u001B[0m\u001B[0;34m[\u001B[0m\u001B[0mname\u001B[0m\u001B[0;34m]\u001B[0m\u001B[0;34m\u001B[0m\u001B[0;34m\u001B[0m\u001B[0m\n\u001B[0;32m-> 5274\u001B[0;31m             \u001B[0;32mreturn\u001B[0m \u001B[0mobject\u001B[0m\u001B[0;34m.\u001B[0m\u001B[0m__getattribute__\u001B[0m\u001B[0;34m(\u001B[0m\u001B[0mself\u001B[0m\u001B[0;34m,\u001B[0m \u001B[0mname\u001B[0m\u001B[0;34m)\u001B[0m\u001B[0;34m\u001B[0m\u001B[0;34m\u001B[0m\u001B[0m\n\u001B[0m\u001B[1;32m   5275\u001B[0m \u001B[0;34m\u001B[0m\u001B[0m\n\u001B[1;32m   5276\u001B[0m     \u001B[0;32mdef\u001B[0m \u001B[0m__setattr__\u001B[0m\u001B[0;34m(\u001B[0m\u001B[0mself\u001B[0m\u001B[0;34m,\u001B[0m \u001B[0mname\u001B[0m\u001B[0;34m:\u001B[0m \u001B[0mstr\u001B[0m\u001B[0;34m,\u001B[0m \u001B[0mvalue\u001B[0m\u001B[0;34m)\u001B[0m \u001B[0;34m->\u001B[0m \u001B[0;32mNone\u001B[0m\u001B[0;34m:\u001B[0m\u001B[0;34m\u001B[0m\u001B[0;34m\u001B[0m\u001B[0m\n",
      "\u001B[0;31mAttributeError\u001B[0m: 'Series' object has no attribute 'center_xyz'"
     ]
    }
   ],
   "source": [
    "ds[batch_ndx]"
   ]
  },
  {
   "cell_type": "code",
   "execution_count": null,
   "metadata": {},
   "outputs": [],
   "source": [
    "series_uid = '1.3.6.1.4.1.14519.5.2.1.6279.6001.124154461048929153767743874565'\n",
    "showCandidate(series_uid)"
   ]
  },
  {
   "cell_type": "code",
   "execution_count": null,
   "metadata": {},
   "outputs": [],
   "source": [
    "series_uid = '1.3.6.1.4.1.14519.5.2.1.6279.6001.126264578931778258890371755354'\n",
    "showCandidate(series_uid)"
   ]
  },
  {
   "cell_type": "code",
   "execution_count": 10,
   "metadata": {},
   "outputs": [
    {
     "data": {
      "text/html": [
       "<div>\n",
       "<style scoped>\n",
       "    .dataframe tbody tr th:only-of-type {\n",
       "        vertical-align: middle;\n",
       "    }\n",
       "\n",
       "    .dataframe tbody tr th {\n",
       "        vertical-align: top;\n",
       "    }\n",
       "\n",
       "    .dataframe thead th {\n",
       "        text-align: right;\n",
       "    }\n",
       "</style>\n",
       "<table border=\"1\" class=\"dataframe\">\n",
       "  <thead>\n",
       "    <tr style=\"text-align: right;\">\n",
       "      <th></th>\n",
       "      <th>is_nodule_bool</th>\n",
       "      <th>diameter_mm</th>\n",
       "      <th>seriesuid</th>\n",
       "      <th>coordX</th>\n",
       "      <th>coordY</th>\n",
       "      <th>coordZ</th>\n",
       "    </tr>\n",
       "  </thead>\n",
       "  <tbody>\n",
       "    <tr>\n",
       "      <th>0</th>\n",
       "      <td>True</td>\n",
       "      <td>32.270030</td>\n",
       "      <td>1.3.6.1.4.1.14519.5.2.1.6279.6001.287966244644...</td>\n",
       "      <td>67.614517</td>\n",
       "      <td>85.025260</td>\n",
       "      <td>-109.808442</td>\n",
       "    </tr>\n",
       "    <tr>\n",
       "      <th>1</th>\n",
       "      <td>True</td>\n",
       "      <td>30.610406</td>\n",
       "      <td>1.3.6.1.4.1.14519.5.2.1.6279.6001.112740418331...</td>\n",
       "      <td>44.190000</td>\n",
       "      <td>37.790000</td>\n",
       "      <td>-107.010000</td>\n",
       "    </tr>\n",
       "    <tr>\n",
       "      <th>2</th>\n",
       "      <td>True</td>\n",
       "      <td>30.610406</td>\n",
       "      <td>1.3.6.1.4.1.14519.5.2.1.6279.6001.112740418331...</td>\n",
       "      <td>47.903505</td>\n",
       "      <td>37.604420</td>\n",
       "      <td>-99.934176</td>\n",
       "    </tr>\n",
       "    <tr>\n",
       "      <th>3</th>\n",
       "      <td>True</td>\n",
       "      <td>27.442423</td>\n",
       "      <td>1.3.6.1.4.1.14519.5.2.1.6279.6001.943403138251...</td>\n",
       "      <td>-45.294402</td>\n",
       "      <td>74.869254</td>\n",
       "      <td>-97.528125</td>\n",
       "    </tr>\n",
       "    <tr>\n",
       "      <th>4</th>\n",
       "      <td>True</td>\n",
       "      <td>27.075443</td>\n",
       "      <td>1.3.6.1.4.1.14519.5.2.1.6279.6001.481278873893...</td>\n",
       "      <td>-102.571208</td>\n",
       "      <td>-5.186559</td>\n",
       "      <td>-205.103341</td>\n",
       "    </tr>\n",
       "  </tbody>\n",
       "</table>\n",
       "</div>"
      ],
      "text/plain": [
       "   is_nodule_bool  diameter_mm  \\\n",
       "0            True    32.270030   \n",
       "1            True    30.610406   \n",
       "2            True    30.610406   \n",
       "3            True    27.442423   \n",
       "4            True    27.075443   \n",
       "\n",
       "                                           seriesuid      coordX     coordY  \\\n",
       "0  1.3.6.1.4.1.14519.5.2.1.6279.6001.287966244644...   67.614517  85.025260   \n",
       "1  1.3.6.1.4.1.14519.5.2.1.6279.6001.112740418331...   44.190000  37.790000   \n",
       "2  1.3.6.1.4.1.14519.5.2.1.6279.6001.112740418331...   47.903505  37.604420   \n",
       "3  1.3.6.1.4.1.14519.5.2.1.6279.6001.943403138251...  -45.294402  74.869254   \n",
       "4  1.3.6.1.4.1.14519.5.2.1.6279.6001.481278873893... -102.571208  -5.186559   \n",
       "\n",
       "       coordZ  \n",
       "0 -109.808442  \n",
       "1 -107.010000  \n",
       "2  -99.934176  \n",
       "3  -97.528125  \n",
       "4 -205.103341  "
      ]
     },
     "execution_count": 10,
     "metadata": {},
     "output_type": "execute_result"
    }
   ],
   "source": [
    "candidates.head()"
   ]
  },
  {
   "cell_type": "code",
   "execution_count": 17,
   "metadata": {},
   "outputs": [
    {
     "data": {
      "text/plain": [
       "551065"
      ]
     },
     "execution_count": 17,
     "metadata": {},
     "output_type": "execute_result"
    }
   ],
   "source": [
    "len(candidates)"
   ]
  },
  {
   "cell_type": "code",
   "execution_count": 21,
   "metadata": {},
   "outputs": [
    {
     "data": {
      "text/html": [
       "<div>\n",
       "<style scoped>\n",
       "    .dataframe tbody tr th:only-of-type {\n",
       "        vertical-align: middle;\n",
       "    }\n",
       "\n",
       "    .dataframe tbody tr th {\n",
       "        vertical-align: top;\n",
       "    }\n",
       "\n",
       "    .dataframe thead th {\n",
       "        text-align: right;\n",
       "    }\n",
       "</style>\n",
       "<table border=\"1\" class=\"dataframe\">\n",
       "  <thead>\n",
       "    <tr style=\"text-align: right;\">\n",
       "      <th></th>\n",
       "      <th>is_nodule_bool</th>\n",
       "      <th>diameter_mm</th>\n",
       "      <th>seriesuid</th>\n",
       "      <th>coordX</th>\n",
       "      <th>coordY</th>\n",
       "      <th>coordZ</th>\n",
       "    </tr>\n",
       "  </thead>\n",
       "  <tbody>\n",
       "    <tr>\n",
       "      <th>0</th>\n",
       "      <td>True</td>\n",
       "      <td>32.270030</td>\n",
       "      <td>1.3.6.1.4.1.14519.5.2.1.6279.6001.287966244644...</td>\n",
       "      <td>67.614517</td>\n",
       "      <td>85.025260</td>\n",
       "      <td>-109.808442</td>\n",
       "    </tr>\n",
       "    <tr>\n",
       "      <th>1</th>\n",
       "      <td>True</td>\n",
       "      <td>30.610406</td>\n",
       "      <td>1.3.6.1.4.1.14519.5.2.1.6279.6001.112740418331...</td>\n",
       "      <td>44.190000</td>\n",
       "      <td>37.790000</td>\n",
       "      <td>-107.010000</td>\n",
       "    </tr>\n",
       "    <tr>\n",
       "      <th>2</th>\n",
       "      <td>True</td>\n",
       "      <td>30.610406</td>\n",
       "      <td>1.3.6.1.4.1.14519.5.2.1.6279.6001.112740418331...</td>\n",
       "      <td>47.903505</td>\n",
       "      <td>37.604420</td>\n",
       "      <td>-99.934176</td>\n",
       "    </tr>\n",
       "    <tr>\n",
       "      <th>3</th>\n",
       "      <td>True</td>\n",
       "      <td>27.442423</td>\n",
       "      <td>1.3.6.1.4.1.14519.5.2.1.6279.6001.943403138251...</td>\n",
       "      <td>-45.294402</td>\n",
       "      <td>74.869254</td>\n",
       "      <td>-97.528125</td>\n",
       "    </tr>\n",
       "    <tr>\n",
       "      <th>4</th>\n",
       "      <td>True</td>\n",
       "      <td>27.075443</td>\n",
       "      <td>1.3.6.1.4.1.14519.5.2.1.6279.6001.481278873893...</td>\n",
       "      <td>-102.571208</td>\n",
       "      <td>-5.186559</td>\n",
       "      <td>-205.103341</td>\n",
       "    </tr>\n",
       "  </tbody>\n",
       "</table>\n",
       "</div>"
      ],
      "text/plain": [
       "   is_nodule_bool  diameter_mm  \\\n",
       "0            True    32.270030   \n",
       "1            True    30.610406   \n",
       "2            True    30.610406   \n",
       "3            True    27.442423   \n",
       "4            True    27.075443   \n",
       "\n",
       "                                           seriesuid      coordX     coordY  \\\n",
       "0  1.3.6.1.4.1.14519.5.2.1.6279.6001.287966244644...   67.614517  85.025260   \n",
       "1  1.3.6.1.4.1.14519.5.2.1.6279.6001.112740418331...   44.190000  37.790000   \n",
       "2  1.3.6.1.4.1.14519.5.2.1.6279.6001.112740418331...   47.903505  37.604420   \n",
       "3  1.3.6.1.4.1.14519.5.2.1.6279.6001.943403138251...  -45.294402  74.869254   \n",
       "4  1.3.6.1.4.1.14519.5.2.1.6279.6001.481278873893... -102.571208  -5.186559   \n",
       "\n",
       "       coordZ  \n",
       "0 -109.808442  \n",
       "1 -107.010000  \n",
       "2  -99.934176  \n",
       "3  -97.528125  \n",
       "4 -205.103341  "
      ]
     },
     "execution_count": 21,
     "metadata": {},
     "output_type": "execute_result"
    }
   ],
   "source": [
    "candidates.head()"
   ]
  },
  {
   "cell_type": "code",
   "execution_count": 26,
   "metadata": {},
   "outputs": [],
   "source": [
    "gg = candidates.iloc[3]"
   ]
  },
  {
   "cell_type": "code",
   "execution_count": 30,
   "metadata": {},
   "outputs": [],
   "source": [
    "series_uid = candidates.seriesuid[0]"
   ]
  },
  {
   "cell_type": "code",
   "execution_count": 31,
   "metadata": {},
   "outputs": [],
   "source": [
    "mhd_path = glob.glob(\n",
    "            \"data-unversioned/part2/luna/subset*/{}.mhd\".format(series_uid)\n",
    "        )[0]"
   ]
  },
  {
   "cell_type": "code",
   "execution_count": 35,
   "metadata": {},
   "outputs": [],
   "source": [
    "mhd_path = glob.glob(\n",
    "            f\"data-unversioned/part2/luna/subset*/{series_uid}.mhd\"\n",
    "        )"
   ]
  },
  {
   "cell_type": "code",
   "execution_count": 36,
   "metadata": {},
   "outputs": [
    {
     "data": {
      "text/plain": [
       "['data-unversioned/part2/luna/subset1/1.3.6.1.4.1.14519.5.2.1.6279.6001.287966244644280690737019247886.mhd']"
      ]
     },
     "execution_count": 36,
     "metadata": {},
     "output_type": "execute_result"
    }
   ],
   "source": [
    "mhd_path"
   ]
  },
  {
   "cell_type": "code",
   "execution_count": 32,
   "metadata": {},
   "outputs": [
    {
     "data": {
      "text/plain": [
       "'data-unversioned/part2/luna/subset1/1.3.6.1.4.1.14519.5.2.1.6279.6001.287966244644280690737019247886.mhd'"
      ]
     },
     "execution_count": 32,
     "metadata": {},
     "output_type": "execute_result"
    }
   ],
   "source": [
    "mhd_path"
   ]
  },
  {
   "cell_type": "code",
   "execution_count": null,
   "metadata": {},
   "outputs": [],
   "source": [
    "import numpy as np\n",
    "import ipyvolume as ipv\n",
    "V = np.zeros((128,128,128)) # our 3d array\n",
    "# outer box\n",
    "V[30:-30,30:-30,30:-30] = 0.75\n",
    "V[35:-35,35:-35,35:-35] = 0.0\n",
    "# inner box\n",
    "V[50:-50,50:-50,50:-50] = 0.25\n",
    "V[55:-55,55:-55,55:-55] = 0.0\n",
    "ipv.quickvolshow(V, level=[0.25, 0.75], opacity=0.03, level_width=0.1, data_min=0, data_max=1)\n"
   ]
  },
  {
   "cell_type": "code",
   "execution_count": null,
   "metadata": {},
   "outputs": [],
   "source": [
    "ct = getCt(series_uid)\n",
    "ipv.quickvolshow(ct.hu_a, level=[0.25, 0.5, 0.9], opacity=0.1, level_width=0.1, data_min=-1000, data_max=1000)"
   ]
  },
  {
   "cell_type": "markdown",
   "metadata": {},
   "source": [
    "# Note: the following visualization doesn't look very good.\n",
    "It's only included here for completeness. "
   ]
  },
  {
   "cell_type": "code",
   "execution_count": null,
   "metadata": {},
   "outputs": [],
   "source": [
    "import scipy.ndimage.morphology\n",
    "def build2dLungMask(ct, mask_ndx, threshold_gcc = 0.7):\n",
    "    dense_mask = ct.hu_a[mask_ndx] > threshold_gcc\n",
    "    denoise_mask = scipy.ndimage.morphology.binary_closing(dense_mask, iterations=2)\n",
    "    tissue_mask = scipy.ndimage.morphology.binary_opening(denoise_mask, iterations=10)\n",
    "    body_mask = scipy.ndimage.morphology.binary_fill_holes(tissue_mask)\n",
    "    air_mask = scipy.ndimage.morphology.binary_fill_holes(body_mask & ~tissue_mask)\n",
    "\n",
    "    lung_mask = scipy.ndimage.morphology.binary_dilation(air_mask, iterations=2)\n",
    "\n",
    "    return air_mask, lung_mask, dense_mask, denoise_mask, tissue_mask, body_mask\n",
    "\n",
    "\n",
    "def build3dLungMask(ct):\n",
    "    air_mask, lung_mask, dense_mask, denoise_mask, tissue_mask, body_mask = mask_list = \\\n",
    "        [np.zeros_like(ct.hu_a, dtype=bool) for _ in range(6)]\n",
    "\n",
    "    for mask_ndx in range(ct.hu_a.shape[0]):\n",
    "        for i, mask_ary in enumerate(build2dLungMask(ct, mask_ndx)):\n",
    "            mask_list[i][mask_ndx] = mask_ary\n",
    "\n",
    "    return air_mask, lung_mask, dense_mask, denoise_mask, tissue_mask, body_mask"
   ]
  },
  {
   "cell_type": "code",
   "execution_count": null,
   "metadata": {},
   "outputs": [],
   "source": [
    "from p2ch10.dsets import getCt\n",
    "ct = getCt(series_uid)\n",
    "air_mask, lung_mask, dense_mask, denoise_mask, tissue_mask, body_mask = build3dLungMask(ct)\n"
   ]
  },
  {
   "cell_type": "code",
   "execution_count": null,
   "metadata": {},
   "outputs": [],
   "source": [
    "bones = ct.hu_a * (ct.hu_a > 1.5)\n",
    "lungs = ct.hu_a * air_mask\n",
    "ipv.figure()\n",
    "ipv.pylab.volshow(bones + lungs, level=[0.17, 0.17, 0.23], data_min=100, data_max=900)\n",
    "ipv.show()"
   ]
  },
  {
   "cell_type": "code",
   "execution_count": null,
   "metadata": {},
   "outputs": [],
   "source": []
  }
 ],
 "metadata": {
  "kernelspec": {
   "display_name": "Python 3",
   "language": "python",
   "name": "python3"
  },
  "language_info": {
   "codemirror_mode": {
    "name": "ipython",
    "version": 3
   },
   "file_extension": ".py",
   "mimetype": "text/x-python",
   "name": "python",
   "nbconvert_exporter": "python",
   "pygments_lexer": "ipython3",
   "version": "3.7.7"
  }
 },
 "nbformat": 4,
 "nbformat_minor": 2
}
